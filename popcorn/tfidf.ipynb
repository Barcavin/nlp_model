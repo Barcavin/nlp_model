{
 "cells": [
  {
   "cell_type": "code",
   "execution_count": 12,
   "metadata": {},
   "outputs": [
    {
     "name": "stderr",
     "output_type": "stream",
     "text": [
      "/home/kevindong1994/anaconda3/lib/python3.6/site-packages/ipykernel_launcher.py:3: ParserWarning: Falling back to the 'python' engine because the 'c' engine does not support regex separators (separators > 1 char and different from '\\s+' are interpreted as regex); you can avoid this warning by specifying engine='python'.\n",
      "  This is separate from the ipykernel package so we can avoid doing imports until\n"
     ]
    },
    {
     "name": "stdout",
     "output_type": "stream",
     "text": [
      "[                      ] 0.10%"
     ]
    },
    {
     "name": "stderr",
     "output_type": "stream",
     "text": [
      "/home/kevindong1994/anaconda3/lib/python3.6/site-packages/bs4/__init__.py:181: UserWarning: No parser was explicitly specified, so I'm using the best available HTML parser for this system (\"lxml\"). This usually isn't a problem, but if you run this code on another system, or in a different virtual environment, it may use a different parser and behave differently.\n",
      "\n",
      "The code that caused this warning is on line 193 of the file /home/kevindong1994/anaconda3/lib/python3.6/runpy.py. To get rid of this warning, change code that looks like this:\n",
      "\n",
      " BeautifulSoup(YOUR_MARKUP})\n",
      "\n",
      "to this:\n",
      "\n",
      " BeautifulSoup(YOUR_MARKUP, \"lxml\")\n",
      "\n",
      "  markup_type=markup_type))\n"
     ]
    },
    {
     "name": "stdout",
     "output_type": "stream",
     "text": [
      "[ =============        ] 65.91%"
     ]
    },
    {
     "name": "stderr",
     "output_type": "stream",
     "text": [
      "/home/kevindong1994/anaconda3/lib/python3.6/site-packages/bs4/__init__.py:219: UserWarning: \"b'.'\" looks like a filename, not markup. You should probably open this file and pass the filehandle into Beautiful Soup.\n",
      "  ' Beautiful Soup.' % markup)\n"
     ]
    },
    {
     "name": "stdout",
     "output_type": "stream",
     "text": [
      "[ ===================  ] 100.00%"
     ]
    }
   ],
   "source": [
    "import pandas as pd\n",
    "import re\n",
    "train = pd.read_csv(\"./training_data.csv\", header=0, delimiter=\"\\t|\\n\")\n",
    "data = train[\"comment\"]\n",
    "\n",
    "### Text Preprocessing\n",
    "from nltk.corpus import stopwords\n",
    "from bs4 import BeautifulSoup\n",
    "keep_stopwords = stopwords.words(\"english\")[-36:]+stopwords.words(\"english\")[131:133] + stopwords.words(\"english\")[116:120]\n",
    "new_stopwords = set(stopwords.words(\"english\")).difference(set(keep_stopwords))\n",
    "replace_num = \"[-+]?[0-9]*\\.?[0-9]+\"\n",
    "replace_url = \"http(s?)://[^\\s]+\"\n",
    "def review_to_words(raw_review):\n",
    "    \n",
    "    review_text = BeautifulSoup(raw_review).get_text()\n",
    "    review_text = re.sub(r'[\\t\\r\\n]',\" \",review_text)\n",
    "    url = re.sub(replace_url,\"URL\",raw_review)\n",
    "    num = re.sub(replace_num,\"NUM\",url)\n",
    "    letters_only = re.sub(\"[^a-zA-Z#]\", \" \", num) #Also keep single quote\n",
    "    \n",
    "    words = letters_only.lower().split()\n",
    "    \n",
    "    meaningful_words = [w for w in words if not w in new_stopwords]\n",
    "    \n",
    "    return(\" \".join(meaningful_words))\n",
    "\n",
    "clean_data = dict()    \n",
    "clean_data[\"x\"] = []\n",
    "clean_data[\"y\"] = []\n",
    "\n",
    "import bar\n",
    "step=0\n",
    "total = len(data)\n",
    "for each in data:\n",
    "    clean_data[\"x\"].append(review_to_words(each))\n",
    "    bar.drawProgressBar(step/total)\n",
    "    step +=1\n",
    "clean_data[\"y\"] = train[\"score\"]\n",
    "\n",
    "\n"
   ]
  },
  {
   "cell_type": "code",
   "execution_count": 13,
   "metadata": {},
   "outputs": [],
   "source": [
    "clean_data[\"x\"] = [each.split() for each in clean_data[\"x\"]]"
   ]
  },
  {
   "cell_type": "code",
   "execution_count": 14,
   "metadata": {},
   "outputs": [],
   "source": [
    "from sklearn.model_selection import train_test_split\n",
    "\n",
    "X_train, X_test, y_train, y_test = train_test_split(clean_data[\"x\"], clean_data[\"y\"], test_size=0.33, random_state=42)"
   ]
  },
  {
   "cell_type": "code",
   "execution_count": 15,
   "metadata": {},
   "outputs": [],
   "source": [
    "from gensim import corpora, models, similarities\n",
    "\n",
    "\n",
    "# Make dictionary here. X_train = [[\"A\",\"B\",\"C\"],[\"D\",\"E\"]]\n",
    "dictionary = corpora.Dictionary(X_train)\n",
    "\n",
    "\n",
    "corpus = [dictionary.doc2bow(text) for text in X_train]\n",
    "\n",
    "\n",
    "tfidf = models.TfidfModel(corpus,normalize=True)\n"
   ]
  },
  {
   "cell_type": "code",
   "execution_count": 16,
   "metadata": {},
   "outputs": [],
   "source": [
    "corpus_tfidf = tfidf[corpus]"
   ]
  },
  {
   "cell_type": "code",
   "execution_count": 23,
   "metadata": {},
   "outputs": [],
   "source": [
    "num_features = len(dictionary.keys())"
   ]
  },
  {
   "cell_type": "code",
   "execution_count": 24,
   "metadata": {},
   "outputs": [
    {
     "data": {
      "text/plain": [
       "17604"
      ]
     },
     "execution_count": 24,
     "metadata": {},
     "output_type": "execute_result"
    }
   ],
   "source": [
    "def to_sparse(row):\n",
    "    "
   ]
  },
  {
   "cell_type": "code",
   "execution_count": null,
   "metadata": {},
   "outputs": [],
   "source": []
  }
 ],
 "metadata": {
  "kernelspec": {
   "display_name": "Python 3",
   "language": "python",
   "name": "python3"
  },
  "language_info": {
   "codemirror_mode": {
    "name": "ipython",
    "version": 3
   },
   "file_extension": ".py",
   "mimetype": "text/x-python",
   "name": "python",
   "nbconvert_exporter": "python",
   "pygments_lexer": "ipython3",
   "version": "3.6.4"
  }
 },
 "nbformat": 4,
 "nbformat_minor": 2
}
