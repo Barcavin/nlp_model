{
 "cells": [
  {
   "cell_type": "code",
   "execution_count": 1,
   "metadata": {},
   "outputs": [
    {
     "name": "stderr",
     "output_type": "stream",
     "text": [
      "/home/kevindong1994/anaconda3/lib/python3.6/site-packages/h5py/__init__.py:36: FutureWarning: Conversion of the second argument of issubdtype from `float` to `np.floating` is deprecated. In future, it will be treated as `np.float64 == np.dtype(float).type`.\n",
      "  from ._conv import register_converters as _register_converters\n",
      "/home/kevindong1994/anaconda3/lib/python3.6/site-packages/ipykernel_launcher.py:4: ParserWarning: Falling back to the 'python' engine because the 'c' engine does not support regex separators (separators > 1 char and different from '\\s+' are interpreted as regex); you can avoid this warning by specifying engine='python'.\n",
      "  after removing the cwd from sys.path.\n"
     ]
    },
    {
     "name": "stdout",
     "output_type": "stream",
     "text": [
      "[                      ] 0.09%"
     ]
    },
    {
     "name": "stderr",
     "output_type": "stream",
     "text": [
      "/home/kevindong1994/anaconda3/lib/python3.6/site-packages/bs4/__init__.py:181: UserWarning: No parser was explicitly specified, so I'm using the best available HTML parser for this system (\"lxml\"). This usually isn't a problem, but if you run this code on another system, or in a different virtual environment, it may use a different parser and behave differently.\n",
      "\n",
      "The code that caused this warning is on line 193 of the file /home/kevindong1994/anaconda3/lib/python3.6/runpy.py. To get rid of this warning, change code that looks like this:\n",
      "\n",
      " BeautifulSoup(YOUR_MARKUP})\n",
      "\n",
      "to this:\n",
      "\n",
      " BeautifulSoup(YOUR_MARKUP, \"lxml\")\n",
      "\n",
      "  markup_type=markup_type))\n"
     ]
    },
    {
     "name": "stdout",
     "output_type": "stream",
     "text": [
      "[ =============        ] 65.91%"
     ]
    },
    {
     "name": "stderr",
     "output_type": "stream",
     "text": [
      "/home/kevindong1994/anaconda3/lib/python3.6/site-packages/bs4/__init__.py:219: UserWarning: \"b'.'\" looks like a filename, not markup. You should probably open this file and pass the filehandle into Beautiful Soup.\n",
      "  ' Beautiful Soup.' % markup)\n"
     ]
    },
    {
     "name": "stdout",
     "output_type": "stream",
     "text": [
      "[ ===================  ] 100.00%"
     ]
    }
   ],
   "source": [
    "import tensorflow as tf\n",
    "import pandas as pd\n",
    "import re\n",
    "train = pd.read_csv(\"./training_data.csv\", header=0, delimiter=\"\\t|\\n\")\n",
    "data = train[\"comment\"]\n",
    "### Text Preprocessing\n",
    "from nltk.corpus import stopwords\n",
    "from bs4 import BeautifulSoup\n",
    "keep_stopwords = stopwords.words(\"english\")[-36:]+stopwords.words(\"english\")[131:133] + stopwords.words(\"english\")[116:120]\n",
    "new_stopwords = set(stopwords.words(\"english\")).difference(set(keep_stopwords))\n",
    "replace_num = \"[-+]?[0-9]*\\.?[0-9]+\"\n",
    "replace_url = \"http(s?)://[^\\s]+\"\n",
    "def review_to_words(raw_review):\n",
    "    \n",
    "    review_text = BeautifulSoup(raw_review).get_text()\n",
    "    review_text = re.sub(r'[\\t\\r\\n]',\" \",review_text)\n",
    "    url = re.sub(replace_url,\"URL\",raw_review)\n",
    "    num = re.sub(replace_num,\"NUM\",url)\n",
    "    letters_only = re.sub(\"[^a-zA-Z']\", \" \", num) #Also keep single quote\n",
    "    \n",
    "    words = letters_only.lower().split()\n",
    "    \n",
    "    meaningful_words = [w for w in words if not w in new_stopwords]\n",
    "    \n",
    "    return(\" \".join(meaningful_words))\n",
    "\n",
    "clean_data = dict()    \n",
    "clean_data[\"x\"] = []\n",
    "clean_data[\"y\"] = []\n",
    "import bar\n",
    "step=0\n",
    "total = len(data)\n",
    "for each in data:\n",
    "    clean_data[\"x\"].append(review_to_words(each))\n",
    "    bar.drawProgressBar(step/total)\n",
    "    step +=1\n",
    "\n",
    "\n",
    "clean_data[\"y\"] = train[\"score\"]"
   ]
  },
  {
   "cell_type": "code",
   "execution_count": 2,
   "metadata": {},
   "outputs": [],
   "source": [
    "import numpy as np\n",
    "def int2vector(i):\n",
    "    return np.array([1]*(i+1)+[0]*(10-i)).reshape(11,1)\n",
    "from sklearn.model_selection import train_test_split\n",
    "\n",
    "X_train, X_test, y_train, y_test = train_test_split(clean_data[\"x\"], clean_data[\"y\"], test_size=0.33, random_state=42)\n",
    "\n",
    "y_train = [int2vector(i) for i in y_train]"
   ]
  },
  {
   "cell_type": "code",
   "execution_count": 15,
   "metadata": {},
   "outputs": [],
   "source": [
    "def tuning(num_features,H,batch_size):   \n",
    "    from sklearn.feature_extraction.text import CountVectorizer  \n",
    "    #num_features = 5000\n",
    "    vectorizer = CountVectorizer(analyzer = \"word\",   \\\n",
    "                                 tokenizer = None,    \\\n",
    "                                 preprocessor = None, \\\n",
    "                                 stop_words = None,   \\\n",
    "                                 max_features = num_features) \n",
    "    train_data_features = vectorizer.fit_transform(X_train)\n",
    "    train_data_features = train_data_features.toarray()\n",
    "    train_data = [train_data_features[i,] for i in range(train_data_features.shape[0])]\n",
    "    def to_predict(row):\n",
    "        for i in range(11):\n",
    "            if row[-1]>0.5:\n",
    "                return 10\n",
    "            elif row[i]<0.5:\n",
    "                return i-1\n",
    "    test_data_features = vectorizer.transform(X_test)\n",
    "    test_data_features = test_data_features.toarray()\n",
    "    test_data = [test_data_features[i,] for i in range(test_data_features.shape[0])]\n",
    "\n",
    "    #batch_size = 10\n",
    "    epochs = 50\n",
    "    epoch = 0\n",
    "    ids = list(range(0,train_data_features.shape[0],batch_size))\n",
    "    i=0\n",
    "    def generate_batch(features,labels):\n",
    "        global i\n",
    "        global ids\n",
    "        global epoch\n",
    "        if i==len(ids)-1:\n",
    "            inner_i = i\n",
    "            i = 0\n",
    "            epoch += 1\n",
    "            return features[ids[inner_i]:],labels[ids[inner_i]:]\n",
    "        else:\n",
    "            inner_i = i\n",
    "            i +=1\n",
    "            return features[ids[inner_i]:ids[i]],labels[ids[inner_i]:ids[i]]\n",
    "\n",
    "    #H = 5\n",
    "    graph = tf.Graph()\n",
    "    with graph.as_default():\n",
    "        x = tf.placeholder(tf.float32,shape=[None,num_features])\n",
    "        y_ = tf.placeholder(tf.float32,shape=[None,11,1])\n",
    "        new_y = tf.squeeze(y_)\n",
    "        W_1 = tf.Variable(tf.random_uniform([num_features,H]))\n",
    "        b_1 = tf.Variable(tf.zeros([H]))\n",
    "\n",
    "        W_2 = tf.Variable(tf.random_uniform([H,11]))\n",
    "        b_2 = tf.Variable(tf.zeros([11]))\n",
    "\n",
    "        temp_1 = tf.nn.relu(tf.matmul(x,W_1) + b_1)\n",
    "        temp_2 = tf.matmul(temp_1,W_2) + b_2\n",
    "        output = tf.nn.sigmoid(temp_2)\n",
    "        #loss = tf.reduce_mean(tf.square(tf.subtract(output,new_y)))\n",
    "        loss = tf.losses.mean_squared_error(output,new_y)\n",
    "        opt = tf.train.AdamOptimizer(learning_rate=0.01)\n",
    "        opt_op = opt.minimize(loss)\n",
    "        init = tf.global_variables_initializer()\n",
    "\n",
    "    # with tf.Session(graph = graph) as session:\n",
    "\n",
    "    sess = tf.InteractiveSession(graph=graph)\n",
    "    sess.run(init)\n",
    "    print(\"Initialized\")\n",
    "    step = 0 \n",
    "    while epoch<epochs:\n",
    "        step+=1\n",
    "        batch_x,batch_y = generate_batch(train_data,y_train)\n",
    "        feed_dict={x:batch_x,y_:batch_y}\n",
    "        _,loss_val = sess.run([opt_op,loss],feed_dict=feed_dict)\n",
    "        if step % 2000 == 0:\n",
    "            print(\"Step: %i, Epoch: %i, Loss:%f\"%(step,epoch,loss_val))\n",
    "\n",
    "    result = sess.run(output,feed_dict={x:test_data_features})\n",
    "    result_label = [to_predict(each) for each in result]\n",
    "    from sklearn.metrics import mean_squared_error\n",
    "    sd = mean_squared_error(result_label, y_test)\n",
    "\n",
    "\n",
    "\n",
    "    def sum_to_pred(row):\n",
    "        r = np.rint(np.sum(row))\n",
    "        if r>10:\n",
    "            return 10\n",
    "        elif r<0:\n",
    "            return 0\n",
    "        else:\n",
    "            return r\n",
    "    result = sess.run(output,feed_dict={x:test_data_features})\n",
    "    result_label = [sum_to_pred(each) for each in result]\n",
    "    from sklearn.metrics import mean_squared_error\n",
    "    custom = mean_squared_error(result_label, y_test)\n",
    "    sess.close()\n",
    "    return sd,custom"
   ]
  },
  {
   "cell_type": "code",
   "execution_count": 19,
   "metadata": {},
   "outputs": [
    {
     "name": "stdout",
     "output_type": "stream",
     "text": [
      "Initialized\n",
      "Step: 2000, Epoch: 0, Loss:0.130651\n",
      "Step: 4000, Epoch: 0, Loss:0.134751\n",
      "Step: 6000, Epoch: 0, Loss:0.087519\n",
      "Step: 8000, Epoch: 0, Loss:0.075315\n",
      "Step: 10000, Epoch: 0, Loss:0.125230\n",
      "Step: 12000, Epoch: 0, Loss:0.031064\n",
      "Step: 14000, Epoch: 0, Loss:0.068572\n",
      "Step: 16000, Epoch: 0, Loss:0.086018\n",
      "Step: 18000, Epoch: 0, Loss:0.053516\n",
      "Step: 20000, Epoch: 0, Loss:0.099708\n",
      "Step: 22000, Epoch: 0, Loss:0.156836\n",
      "Step: 24000, Epoch: 0, Loss:0.063889\n",
      "Step: 26000, Epoch: 0, Loss:0.063917\n",
      "Step: 28000, Epoch: 0, Loss:0.116245\n"
     ]
    },
    {
     "ename": "KeyboardInterrupt",
     "evalue": "",
     "output_type": "error",
     "traceback": [
      "\u001b[0;31m---------------------------------------------------------------------------\u001b[0m",
      "\u001b[0;31mKeyboardInterrupt\u001b[0m                         Traceback (most recent call last)",
      "\u001b[0;32m<ipython-input-19-9a99fcfa2486>\u001b[0m in \u001b[0;36m<module>\u001b[0;34m()\u001b[0m\n\u001b[1;32m      7\u001b[0m     \u001b[0;32mfor\u001b[0m \u001b[0mb\u001b[0m \u001b[0;32min\u001b[0m \u001b[0mtuning_H\u001b[0m\u001b[0;34m:\u001b[0m\u001b[0;34m\u001b[0m\u001b[0m\n\u001b[1;32m      8\u001b[0m         \u001b[0;32mfor\u001b[0m \u001b[0mc\u001b[0m \u001b[0;32min\u001b[0m \u001b[0mbatch_size\u001b[0m\u001b[0;34m:\u001b[0m\u001b[0;34m\u001b[0m\u001b[0m\n\u001b[0;32m----> 9\u001b[0;31m             \u001b[0mfirst\u001b[0m\u001b[0;34m,\u001b[0m\u001b[0msecond\u001b[0m \u001b[0;34m=\u001b[0m \u001b[0mtuning\u001b[0m\u001b[0;34m(\u001b[0m\u001b[0ma\u001b[0m\u001b[0;34m,\u001b[0m\u001b[0mb\u001b[0m\u001b[0;34m,\u001b[0m\u001b[0mc\u001b[0m\u001b[0;34m)\u001b[0m\u001b[0;34m\u001b[0m\u001b[0m\n\u001b[0m\u001b[1;32m     10\u001b[0m             \u001b[0mBIG\u001b[0m\u001b[0;34m[\u001b[0m\u001b[0;34m\"feature:%i,H:%i,batch:%i\"\u001b[0m\u001b[0;34m%\u001b[0m\u001b[0;34m(\u001b[0m\u001b[0ma\u001b[0m\u001b[0;34m,\u001b[0m\u001b[0mb\u001b[0m\u001b[0;34m,\u001b[0m\u001b[0mc\u001b[0m\u001b[0;34m)\u001b[0m\u001b[0;34m]\u001b[0m \u001b[0;34m=\u001b[0m \u001b[0;34m[\u001b[0m\u001b[0mfirst\u001b[0m\u001b[0;34m,\u001b[0m\u001b[0msecond\u001b[0m\u001b[0;34m]\u001b[0m\u001b[0;34m\u001b[0m\u001b[0m\n",
      "\u001b[0;32m<ipython-input-15-a1ee8d77526d>\u001b[0m in \u001b[0;36mtuning\u001b[0;34m(num_features, H, batch_size)\u001b[0m\n\u001b[1;32m     66\u001b[0m         \u001b[0mbatch_x\u001b[0m\u001b[0;34m,\u001b[0m\u001b[0mbatch_y\u001b[0m \u001b[0;34m=\u001b[0m \u001b[0mgenerate_batch\u001b[0m\u001b[0;34m(\u001b[0m\u001b[0mtrain_data\u001b[0m\u001b[0;34m,\u001b[0m\u001b[0my_train\u001b[0m\u001b[0;34m)\u001b[0m\u001b[0;34m\u001b[0m\u001b[0m\n\u001b[1;32m     67\u001b[0m         \u001b[0mfeed_dict\u001b[0m\u001b[0;34m=\u001b[0m\u001b[0;34m{\u001b[0m\u001b[0mx\u001b[0m\u001b[0;34m:\u001b[0m\u001b[0mbatch_x\u001b[0m\u001b[0;34m,\u001b[0m\u001b[0my_\u001b[0m\u001b[0;34m:\u001b[0m\u001b[0mbatch_y\u001b[0m\u001b[0;34m}\u001b[0m\u001b[0;34m\u001b[0m\u001b[0m\n\u001b[0;32m---> 68\u001b[0;31m         \u001b[0m_\u001b[0m\u001b[0;34m,\u001b[0m\u001b[0mloss_val\u001b[0m \u001b[0;34m=\u001b[0m \u001b[0msess\u001b[0m\u001b[0;34m.\u001b[0m\u001b[0mrun\u001b[0m\u001b[0;34m(\u001b[0m\u001b[0;34m[\u001b[0m\u001b[0mopt_op\u001b[0m\u001b[0;34m,\u001b[0m\u001b[0mloss\u001b[0m\u001b[0;34m]\u001b[0m\u001b[0;34m,\u001b[0m\u001b[0mfeed_dict\u001b[0m\u001b[0;34m=\u001b[0m\u001b[0mfeed_dict\u001b[0m\u001b[0;34m)\u001b[0m\u001b[0;34m\u001b[0m\u001b[0m\n\u001b[0m\u001b[1;32m     69\u001b[0m         \u001b[0;32mif\u001b[0m \u001b[0mstep\u001b[0m \u001b[0;34m%\u001b[0m \u001b[0;36m2000\u001b[0m \u001b[0;34m==\u001b[0m \u001b[0;36m0\u001b[0m\u001b[0;34m:\u001b[0m\u001b[0;34m\u001b[0m\u001b[0m\n\u001b[1;32m     70\u001b[0m             \u001b[0mprint\u001b[0m\u001b[0;34m(\u001b[0m\u001b[0;34m\"Step: %i, Epoch: %i, Loss:%f\"\u001b[0m\u001b[0;34m%\u001b[0m\u001b[0;34m(\u001b[0m\u001b[0mstep\u001b[0m\u001b[0;34m,\u001b[0m\u001b[0mepoch\u001b[0m\u001b[0;34m,\u001b[0m\u001b[0mloss_val\u001b[0m\u001b[0;34m)\u001b[0m\u001b[0;34m)\u001b[0m\u001b[0;34m\u001b[0m\u001b[0m\n",
      "\u001b[0;32m~/anaconda3/lib/python3.6/site-packages/tensorflow/python/client/session.py\u001b[0m in \u001b[0;36mrun\u001b[0;34m(self, fetches, feed_dict, options, run_metadata)\u001b[0m\n\u001b[1;32m    903\u001b[0m     \u001b[0;32mtry\u001b[0m\u001b[0;34m:\u001b[0m\u001b[0;34m\u001b[0m\u001b[0m\n\u001b[1;32m    904\u001b[0m       result = self._run(None, fetches, feed_dict, options_ptr,\n\u001b[0;32m--> 905\u001b[0;31m                          run_metadata_ptr)\n\u001b[0m\u001b[1;32m    906\u001b[0m       \u001b[0;32mif\u001b[0m \u001b[0mrun_metadata\u001b[0m\u001b[0;34m:\u001b[0m\u001b[0;34m\u001b[0m\u001b[0m\n\u001b[1;32m    907\u001b[0m         \u001b[0mproto_data\u001b[0m \u001b[0;34m=\u001b[0m \u001b[0mtf_session\u001b[0m\u001b[0;34m.\u001b[0m\u001b[0mTF_GetBuffer\u001b[0m\u001b[0;34m(\u001b[0m\u001b[0mrun_metadata_ptr\u001b[0m\u001b[0;34m)\u001b[0m\u001b[0;34m\u001b[0m\u001b[0m\n",
      "\u001b[0;32m~/anaconda3/lib/python3.6/site-packages/tensorflow/python/client/session.py\u001b[0m in \u001b[0;36m_run\u001b[0;34m(self, handle, fetches, feed_dict, options, run_metadata)\u001b[0m\n\u001b[1;32m   1104\u001b[0m             \u001b[0mfeed_handles\u001b[0m\u001b[0;34m[\u001b[0m\u001b[0msubfeed_t\u001b[0m\u001b[0;34m]\u001b[0m \u001b[0;34m=\u001b[0m \u001b[0msubfeed_val\u001b[0m\u001b[0;34m\u001b[0m\u001b[0m\n\u001b[1;32m   1105\u001b[0m           \u001b[0;32melse\u001b[0m\u001b[0;34m:\u001b[0m\u001b[0;34m\u001b[0m\u001b[0m\n\u001b[0;32m-> 1106\u001b[0;31m             \u001b[0mnp_val\u001b[0m \u001b[0;34m=\u001b[0m \u001b[0mnp\u001b[0m\u001b[0;34m.\u001b[0m\u001b[0masarray\u001b[0m\u001b[0;34m(\u001b[0m\u001b[0msubfeed_val\u001b[0m\u001b[0;34m,\u001b[0m \u001b[0mdtype\u001b[0m\u001b[0;34m=\u001b[0m\u001b[0msubfeed_dtype\u001b[0m\u001b[0;34m)\u001b[0m\u001b[0;34m\u001b[0m\u001b[0m\n\u001b[0m\u001b[1;32m   1107\u001b[0m \u001b[0;34m\u001b[0m\u001b[0m\n\u001b[1;32m   1108\u001b[0m           if (not is_tensor_handle_feed and\n",
      "\u001b[0;32m~/anaconda3/lib/python3.6/site-packages/numpy/core/numeric.py\u001b[0m in \u001b[0;36masarray\u001b[0;34m(a, dtype, order)\u001b[0m\n\u001b[1;32m    490\u001b[0m \u001b[0;34m\u001b[0m\u001b[0m\n\u001b[1;32m    491\u001b[0m     \"\"\"\n\u001b[0;32m--> 492\u001b[0;31m     \u001b[0;32mreturn\u001b[0m \u001b[0marray\u001b[0m\u001b[0;34m(\u001b[0m\u001b[0ma\u001b[0m\u001b[0;34m,\u001b[0m \u001b[0mdtype\u001b[0m\u001b[0;34m,\u001b[0m \u001b[0mcopy\u001b[0m\u001b[0;34m=\u001b[0m\u001b[0;32mFalse\u001b[0m\u001b[0;34m,\u001b[0m \u001b[0morder\u001b[0m\u001b[0;34m=\u001b[0m\u001b[0morder\u001b[0m\u001b[0;34m)\u001b[0m\u001b[0;34m\u001b[0m\u001b[0m\n\u001b[0m\u001b[1;32m    493\u001b[0m \u001b[0;34m\u001b[0m\u001b[0m\n\u001b[1;32m    494\u001b[0m \u001b[0;34m\u001b[0m\u001b[0m\n",
      "\u001b[0;31mKeyboardInterrupt\u001b[0m: "
     ]
    }
   ],
   "source": [
    "tuning_feature = [2000,5000,8000]\n",
    "tuning_H = [2,5,8,10]\n",
    "batch_size = [50,100,300]\n",
    "\n",
    "BIG = dict()\n",
    "for a in tuning_feature:\n",
    "    for b in tuning_H:\n",
    "        for c in batch_size:\n",
    "            first,second = tuning(a,b,c)\n",
    "            BIG[\"feature:%i,H:%i,batch:%i\"%(a,b,c)] = [first,second]"
   ]
  },
  {
   "cell_type": "code",
   "execution_count": null,
   "metadata": {},
   "outputs": [],
   "source": []
  }
 ],
 "metadata": {
  "kernelspec": {
   "display_name": "Python 3",
   "language": "python",
   "name": "python3"
  },
  "language_info": {
   "codemirror_mode": {
    "name": "ipython",
    "version": 3
   },
   "file_extension": ".py",
   "mimetype": "text/x-python",
   "name": "python",
   "nbconvert_exporter": "python",
   "pygments_lexer": "ipython3",
   "version": "3.6.4"
  }
 },
 "nbformat": 4,
 "nbformat_minor": 2
}
